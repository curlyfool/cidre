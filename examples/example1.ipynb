{
  "nbformat": 4,
  "nbformat_minor": 0,
  "metadata": {
    "jupytext": {
      "encoding": "# -*- coding: utf-8 -*-"
    },
    "kernelspec": {
      "display_name": "Python 3",
      "language": "python",
      "name": "python3"
    },
    "colab": {
      "name": "example1.ipynb",
      "provenance": []
    }
  },
  "cells": [
    {
      "cell_type": "markdown",
      "metadata": {
        "id": "KICTR2HtEcU9"
      },
      "source": [
        "# About this notebook\n",
        "\n",
        "In this notebook, we apply CIDRE to a network with communities and demonstrate how to use CIDRE and visualize the detected groups.\n",
        "\n",
        "\n",
        "# Loading libraries\n",
        "\n",
        "To start, we'll need some libraries!\n"
      ]
    },
    {
      "cell_type": "code",
      "metadata": {
        "id": "aKnjeGnnEcU_"
      },
      "source": [
        "import sys\n",
        "import numpy as np\n",
        "from scipy import sparse\n",
        "import pandas as pd\n",
        "import cidre"
      ],
      "execution_count": null,
      "outputs": []
    },
    {
      "cell_type": "markdown",
      "metadata": {
        "id": "ifRxK9fbEcVA"
      },
      "source": [
        "# Example 1\n",
        "\n",
        "Next, we load a network. We first present an example of a small artificial network."
      ]
    },
    {
      "cell_type": "code",
      "metadata": {
        "id": "dsLhebpREcVA"
      },
      "source": [
        "# Data path\n",
        "edge_file = \"../data/synthe/edge-table.csv\"\n",
        "node_file = \"../data/synthe/node-table.csv\"\n",
        "\n",
        "# Load\n",
        "node_table = pd.read_csv(node_file)\n",
        "A, node_labels = cidre.utils.read_edge_list(edge_file)"
      ],
      "execution_count": null,
      "outputs": []
    },
    {
      "cell_type": "markdown",
      "metadata": {
        "id": "2PDobGDcEcVB"
      },
      "source": [
        "We constructed this synthetic network by generating a network using a stochastic block model (SBM) composed of two blocks and then adding excessive citation edges among uniformly randomly selected pairs of nodes. Each block corresponds to a community, i.e., a group of nodes that are densely connected with each other within it but sparsely connected with those in the opposite group. Such communities overshadow anomalous groups in networks. "
      ]
    },
    {
      "cell_type": "markdown",
      "metadata": {
        "id": "5PsfTNsQEcVB"
      },
      "source": [
        "Let's pretend that we do not know that the network is composed of two communities plus additional edges. To run CIDRE, we first need to find the communities. To use `graph-tool` package to do this, install `graph-tool` by "
      ]
    },
    {
      "cell_type": "code",
      "metadata": {
        "id": "iNUpxKwTEcVB"
      },
      "source": [
        "!conda install -y -c conda-forge graph-tool"
      ],
      "execution_count": null,
      "outputs": []
    },
    {
      "cell_type": "markdown",
      "metadata": {
        "id": "w8HYpWMhEcVC"
      },
      "source": [
        "Now, let's detect communities by fitting the degree-corrected stochastic block model (dcSBM) to the network and consider each detected block as a community.\n",
        "\n",
        "Our approach hinges on the assumption that the anomalous groups are not detected by the community detection algorithm. If we allow the number of communities to be large in this example, we would find anonalous groups as communities. Therefore, we limit the number of communities to be at most 3 to prevent the SBM to detect small anomalous groups. This workaround is artificial. However, we do not need to impose it in the case of large networks (see Example 2 below) because small anomalous groups usually have little impact on the global community structure, and thus the SBM would not find them as communities."
      ]
    },
    {
      "cell_type": "code",
      "metadata": {
        "id": "h3qtB94jEcVC"
      },
      "source": [
        "import graph_tool.all as gt\n",
        "def detect_community(A, K = None, **params):\n",
        "    \"\"\"Detect communities using the graph-tool package\n",
        "\n",
        "    :param A: adjacency matrix\n",
        "    :type A: scipy.csr_sparse_matrix\n",
        "    :param K: Maximum number of communities. If K = None, the number of communities is automatically determined by graph-tool.\n",
        "    :type K: int or None\n",
        "    :param params: parameters passed to graph_tool.gt.minimize_blockmodel_dl\n",
        "    \"\"\"\n",
        "    def to_graph_tool_format(adj, membership=None):\n",
        "        g = gt.Graph(directed=True)\n",
        "        r, c, v = sparse.find(adj)\n",
        "        nedges = v.size\n",
        "        edge_weights = g.new_edge_property(\"double\")\n",
        "        g.edge_properties[\"weight\"] = edge_weights\n",
        "        g.add_edge_list(\n",
        "            np.hstack([np.transpose((r, c)), np.reshape(v, (nedges, 1))]),\n",
        "            eprops=[edge_weights],\n",
        "        )\n",
        "        return g\n",
        "    G = to_graph_tool_format(A)\n",
        "\n",
        "    states = gt.minimize_blockmodel_dl(\n",
        "        G,\n",
        "        state_args=dict(eweight=G.ep.weight),\n",
        "        multilevel_mcmc_args = {\"B_max\": A.shape[0] if K is None else K },\n",
        "        **params\n",
        "    )\n",
        "    b = states.get_blocks()\n",
        "    return np.unique(np.array(b.a), return_inverse = True)[1]"
      ],
      "execution_count": null,
      "outputs": []
    },
    {
      "cell_type": "code",
      "metadata": {
        "id": "mZnRHmCHEcVD"
      },
      "source": [
        "group_membership = detect_community(A, K = 3)"
      ],
      "execution_count": null,
      "outputs": []
    },
    {
      "cell_type": "markdown",
      "metadata": {
        "id": "z3fE7Qq9EcVD"
      },
      "source": [
        "Now, we feed the network and its community structure to CIDRE. To to this, we create a `cidre.Cidre` object and input `group_membership` along with some key parameters to `cidre.Cidre`."
      ]
    },
    {
      "cell_type": "code",
      "metadata": {
        "id": "NBCEKVBZEcVD"
      },
      "source": [
        "alg = cidre.Cidre(group_membership = group_membership, alpha = 0.05, min_edge_weight = 1)"
      ],
      "execution_count": null,
      "outputs": []
    },
    {
      "cell_type": "markdown",
      "metadata": {
        "id": "EvvHYL_lEcVD"
      },
      "source": [
        "- `alpha` (default 0.01) is the statistical significance level.\n",
        "- `min_edge_weight` is the threshold of the edge weight, i.e., the edges with weight less than this value will be removed.\n",
        "\n",
        "Then, we input the network in the `scipy.sparse_csr` matrix or `nx.Graph` format to `cidre.Cidre.detect`."
      ]
    },
    {
      "cell_type": "code",
      "metadata": {
        "id": "UGmFBaLbEcVE"
      },
      "source": [
        "groups = alg.detect(A, threshold=0.15)"
      ],
      "execution_count": null,
      "outputs": []
    },
    {
      "cell_type": "markdown",
      "metadata": {
        "id": "60Fp9LA9EcVE"
      },
      "source": [
        "`groups` is a list of `Group` instances. We can get the donor nodes of a group, for example `groups[0]`, by"
      ]
    },
    {
      "cell_type": "code",
      "metadata": {
        "id": "9wU-fvA2EcVE"
      },
      "source": [
        "groups[0].donors"
      ],
      "execution_count": null,
      "outputs": []
    },
    {
      "cell_type": "markdown",
      "metadata": {
        "id": "CEPElXKkEcVE"
      },
      "source": [
        "The keys and values of this dict object are the IDs of the nodes and their donor scores, respectively. The recipients and their recipient scores can be obtained by"
      ]
    },
    {
      "cell_type": "code",
      "metadata": {
        "lines_to_next_cell": 2,
        "id": "aTFc_o5BEcVE"
      },
      "source": [
        "groups[0].recipients"
      ],
      "execution_count": null,
      "outputs": []
    },
    {
      "cell_type": "markdown",
      "metadata": {
        "id": "vo19Md36EcVF"
      },
      "source": [
        "`cidre` package provides an API to visualize small groups. To use this API, we first need to import some additional libraries."
      ]
    },
    {
      "cell_type": "code",
      "metadata": {
        "id": "lVQbfWDVEcVF"
      },
      "source": [
        "import seaborn as sns\n",
        "import matplotlib.pyplot as plt"
      ],
      "execution_count": null,
      "outputs": []
    },
    {
      "cell_type": "markdown",
      "metadata": {
        "id": "W0vYp-lIEcVF"
      },
      "source": [
        "Then, plot the group by"
      ]
    },
    {
      "cell_type": "code",
      "metadata": {
        "id": "au-3a1LHEcVF"
      },
      "source": [
        "# The following three lines are purely for visual enhancement, i.e., changing the saturation of the colors and font size.\n",
        "sns.set_style(\"white\")\n",
        "sns.set(font_scale=1.2)\n",
        "sns.set_style(\"ticks\")\n",
        "\n",
        "# Set the figure size\n",
        "width, height = 5,5\n",
        "fig, ax = plt.subplots(figsize=(width, height))\n",
        "\n",
        "# Plot a citation group\n",
        "cidre.DrawGroup().draw(groups[0], ax = ax)\n",
        "\n",
        "# # Example 2\n",
        "\n",
        "# # Let's go through another example, which is a much large empirical citation network.\n",
        "# #  \n",
        "# In this example, we walk through how to use CIDRE to detect anomalous journal groups in a citation network. We assume that you have read \"examples/example.ipynb\".\n",
        "#\n",
        "# To begin with we need some libraries:\n",
        "\n",
        "import sys\n",
        "import numpy as np\n",
        "from scipy import sparse\n",
        "import pandas as pd\n",
        "import cidre\n",
        "\n",
        "# We load the citation network of journals in 2013."
      ],
      "execution_count": null,
      "outputs": []
    },
    {
      "cell_type": "code",
      "metadata": {
        "id": "SWxvzmnTEcVG"
      },
      "source": [
        "# Data path\n",
        "edge_file = \"../data/journal-citation/edge-table-2013.csv\"\n",
        "node_file = \"../data/journal-citation/community-label.csv\"\n",
        "\n",
        "# Load\n",
        "node_table = pd.read_csv(node_file)\n",
        "A, node_labels = cidre.utils.read_edge_list(edge_file)"
      ],
      "execution_count": null,
      "outputs": []
    },
    {
      "cell_type": "markdown",
      "metadata": {
        "id": "RORUAoB4EcVG"
      },
      "source": [
        "## About this network\n",
        "\n",
        "This network is a citation network of journals in 2013 constructed from Microsoft Academic Graph.\n",
        "Each edge is weighted by the number of citations made to papers in the prior two years.\n",
        "The following are the basic statistics of this network."
      ]
    },
    {
      "cell_type": "code",
      "metadata": {
        "id": "dnY8niyoEcVG"
      },
      "source": [
        "print(\"Number of nodes: %d\" % A.shape[0])\n",
        "print(\"Number of edges: %d\" % A.sum())\n",
        "print(\"Average degree: %.2f\" % (A.sum()/A.shape[0]))\n",
        "print(\"Max in-degree: %d\" % np.max(A.sum(axis = 0)))\n",
        "print(\"Max out-degree: %d\" % np.max(A.sum(axis = 1)))\n",
        "print(\"Maximum edge weight: %d\" % A.max())\n",
        "print(\"Minimum edge weight: %d\" % np.min(A.data))"
      ],
      "execution_count": null,
      "outputs": []
    },
    {
      "cell_type": "markdown",
      "metadata": {
        "id": "mX25b7JjEcVG"
      },
      "source": [
        "## Communities overshadow anomalous groups\n",
        "\n",
        "Now, let us demonstrate how community structure makes it difficult to find anomalous groups. To this end, we run CIDRE without telling it about the communities in the network."
      ]
    },
    {
      "cell_type": "code",
      "metadata": {
        "id": "j88kqDRwEcVH"
      },
      "source": [
        "# Group detection\n",
        "# alpha: statistical significance level to find anomalous edges.\n",
        "# min_edge_weight: the edges with weight less than this value will be removed prior to detecting groups.\n",
        "alg = cidre.Cidre(group_membership = None, alpha = 0.01, min_edge_weight = 10)\n",
        "groups = alg.detect(A, threshold=0.15)"
      ],
      "execution_count": null,
      "outputs": []
    },
    {
      "cell_type": "markdown",
      "metadata": {
        "id": "4NFX98YPEcVH"
      },
      "source": [
        "Let see the number of nodes in the group, which can be obtained by `.size` API of `Group` class:"
      ]
    },
    {
      "cell_type": "code",
      "metadata": {
        "id": "D1BMpC-JEcVH"
      },
      "source": [
        "# group.size() will return the number of nodes in the group\n",
        "print(\"The number of journals in the largest group: %d\" % np.max([group.size() for group in groups]))\n",
        "print(\"Number of groups detected: %d\" % len(groups))"
      ],
      "execution_count": null,
      "outputs": []
    },
    {
      "cell_type": "markdown",
      "metadata": {
        "id": "AouGd_9IEcVH"
      },
      "source": [
        "CIDRE detected a super large group composed of more than 6000 journals, which would not be anomalous.\n",
        "\n",
        "What happens?\n",
        "\n",
        "This group consists of journals of related fields. Because they are frequently citing with each other, CIDRE detects them as an anomalous group. This problem---looking for anomalous group of densely connected nodes results in finding non-suspecious communities---can occur not only with CIDRE but also with other methods based on community detection. It is, therefore, crucial to discount the effect of such dominant \"normal\" communities to find \"anomalous\" groups."
      ]
    },
    {
      "cell_type": "markdown",
      "metadata": {
        "id": "x_IAlmL-EcVH"
      },
      "source": [
        "## Finding anomalous groups in the network\n",
        "\n",
        "It is straightforward to tell CIDRE the \"normal\" communities in the network. Deciding what should be \"normal\" is your modelling decision. In context of the journal citation network, we consider journals in the same field as a normal citation community, and use a community detection algorithm (the degree-corrected stochastic block model) to identify the \"normal\" communities.\n",
        "\n",
        "To tell the normal communities to CIDRE, pass an array indicating group membership of nodes, `group_membership`, where `group_membership[i]` indicates the ID of the group to which node i belongs.\n",
        "\n",
        "We use the group membership in `node_table`. `node_table` consists of `journal_id`  and `community_id` columns, from which we prepare `group_membership` array as follows."
      ]
    },
    {
      "cell_type": "code",
      "metadata": {
        "id": "xlaLIDjwEcVH"
      },
      "source": [
        "# Get group membership\n",
        "node2com = dict(zip(node_table[\"journal_id\"], node_table[\"community_id\"]))\n",
        "group_membership = [node2com[node_labels[i]] for i in range(A.shape[0])]"
      ],
      "execution_count": null,
      "outputs": []
    },
    {
      "cell_type": "markdown",
      "metadata": {
        "id": "vKzcAPkQEcVI"
      },
      "source": [
        "And then pass `group_membership` to `Cidre` class."
      ]
    },
    {
      "cell_type": "code",
      "metadata": {
        "id": "kQEqAIJoEcVI"
      },
      "source": [
        "alg = cidre.Cidre(group_membership = group_membership, alpha = 0.01, min_edge_weight = 10)\n",
        "groups = alg.detect(A, threshold=0.15)"
      ],
      "execution_count": null,
      "outputs": []
    },
    {
      "cell_type": "code",
      "metadata": {
        "id": "HHqk6MOEEcVI"
      },
      "source": [
        "print(\"The number of journals in the largest group: %d\" % np.max([group.size() for group in groups]))\n",
        "print(\"Number of groups detected: %d\" % len(groups))"
      ],
      "execution_count": null,
      "outputs": []
    },
    {
      "cell_type": "markdown",
      "metadata": {
        "id": "-Bd4qAKdEcVI"
      },
      "source": [
        "CIDRE detected a much smaller group composed of 16 journals."
      ]
    },
    {
      "cell_type": "markdown",
      "metadata": {
        "id": "SMylhKMNEcVI"
      },
      "source": [
        "## Visualizing anomalous groups"
      ]
    },
    {
      "cell_type": "markdown",
      "metadata": {
        "id": "sFWZTKxuEcVJ"
      },
      "source": [
        "Let us visualize the groups detected by CIDRE. As a demonstration, we random sample three groups."
      ]
    },
    {
      "cell_type": "code",
      "metadata": {
        "id": "MvNno-z9EcVJ"
      },
      "source": [
        "# group.get_num_edges() gives the total weight of edges within the group\n",
        "groups_filtered = [group for group in groups if group.get_num_edges()>50] # Filter out the groups with total within-group edge weight less than 50\n",
        "groups_sampled = [groups_filtered[i] for i in np.random.choice(len(groups_filtered), 3, replace = False)]"
      ],
      "execution_count": null,
      "outputs": []
    },
    {
      "cell_type": "code",
      "metadata": {
        "id": "tp5hJeIiEcVJ"
      },
      "source": [
        "import seaborn as sns\n",
        "import matplotlib.pyplot as plt\n",
        "sns.set_style(\"white\")\n",
        "sns.set(font_scale=1.2)\n",
        "sns.set_style(\"ticks\")\n",
        "\n",
        "fig, axes = plt.subplots(ncols = 3, figsize=(6 * 3, 5))\n",
        "\n",
        "for i in range(3):\n",
        "    cidre.DrawGroup().draw(groups_sampled[i], ax = axes.flat[i])"
      ],
      "execution_count": null,
      "outputs": []
    },
    {
      "cell_type": "markdown",
      "metadata": {
        "id": "c-OTsIFdEcVJ"
      },
      "source": [
        "Let's place journal name instead of node IDs. To this end, we load node lables and make a dictionary from ID to label:"
      ]
    },
    {
      "cell_type": "code",
      "metadata": {
        "lines_to_next_cell": 2,
        "id": "Q67C_AJwEcVJ"
      },
      "source": [
        "df = pd.read_csv(\"../data/journal-citation/journal_names.csv\")\n",
        "journalid2label = dict(zip(df.journal_id.values, df.name.values)) # MAG journal id -> Journal Name\n",
        "\n",
        "id2label = {k:journalid2label[v] for k, v in node_labels.items()} # Dictionary from IDs to labels"
      ],
      "execution_count": null,
      "outputs": []
    },
    {
      "cell_type": "code",
      "metadata": {
        "id": "uIQ7XcirEcVJ"
      },
      "source": [
        "sns.set_style(\"white\")\n",
        "sns.set(font_scale=1.2)\n",
        "sns.set_style(\"ticks\")\n",
        "\n",
        "fig, axes = plt.subplots(ncols = 3, figsize=(8 * 3, 5))\n",
        "\n",
        "for i in range(3):\n",
        "    plotter = cidre.DrawGroup()\n",
        "    plotter.font_size = 12 # Font size\n",
        "    plotter.label_node_margin = 0.5 # Margin between labels and node\n",
        "    plotter.draw(groups_sampled[i], node_labels = id2label, ax = axes.flat[i])"
      ],
      "execution_count": null,
      "outputs": []
    }
  ]
}